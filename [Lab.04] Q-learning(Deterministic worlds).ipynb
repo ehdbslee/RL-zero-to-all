{
  "nbformat": 4,
  "nbformat_minor": 0,
  "metadata": {
    "colab": {
      "name": "Dummy_Q_Learning.ipynb",
      "provenance": [],
      "collapsed_sections": []
    },
    "kernelspec": {
      "name": "python3",
      "display_name": "Python 3"
    },
    "language_info": {
      "name": "python"
    }
  },
  "cells": [
    {
      "cell_type": "code",
      "execution_count": null,
      "metadata": {
        "id": "sSsKr0YO4Y3F"
      },
      "outputs": [],
      "source": [
        "import gym\n",
        "import numpy as np\n",
        "import matplotlib.pyplot as plt\n",
        "from gym.envs.registration import register\n",
        "import random \n",
        "\n",
        "def rargmax(vector):\n",
        "    m = np.max(vector)\n",
        "    indices = np.nonzero(vector==m)[0]\n",
        "    return random.choice(indices)"
      ]
    },
    {
      "cell_type": "code",
      "source": [
        "register(\n",
        "    id='FrozenLake-v3',\n",
        "    entry_point='gym.envs.toy_text:FrozenLakeEnv',\n",
        "    kwargs={'map_name':'4x4', 'is_slippery':False}\n",
        ")\n",
        "\n",
        "env = gym.make('FrozenLake-v3') "
      ],
      "metadata": {
        "id": "HIOMr3Z65EUV"
      },
      "execution_count": null,
      "outputs": []
    },
    {
      "cell_type": "code",
      "source": [
        "Q = np.zeros([env.observation_space.n, env.action_space.n])   #16x4\n",
        "\n",
        "num_episodes = 2000\n",
        "rList = []\n",
        "\n",
        "for i in range(num_episodes):\n",
        "    state = env.reset() #초기 상태로 만들어놓기\n",
        "    rAll = 0\n",
        "    done = False\n",
        "\n",
        "    while not done:\n",
        "        action = rargmax(Q[state, :])\n",
        "\n",
        "        new_state, reward, done, info = env.step(action)\n",
        "        Q[state, action] = reward + np.max(Q[new_state, :])\n",
        "\n",
        "        rAll += reward\n",
        "\n",
        "        state = new_state\n",
        "\n",
        "    rList.append(rAll)\n",
        "\n",
        "print(f\"Success Rate : {sum(rList)/num_episodes}\")\n",
        "print(\"Final Q-Table Values\")\n",
        "print(\"LEFT DOWN RIGHT UP\")\n",
        "print(Q)"
      ],
      "metadata": {
        "colab": {
          "base_uri": "https://localhost:8080/"
        },
        "id": "vcDlasIX5W2Q",
        "outputId": "f8615440-8a82-4461-cf5d-48b2e754a765"
      },
      "execution_count": null,
      "outputs": [
        {
          "output_type": "stream",
          "name": "stdout",
          "text": [
            "Success Rate : 0.94\n",
            "Final Q-Table Values\n",
            "LEFT DOWN RIGHT UP\n",
            "[[0. 0. 1. 0.]\n",
            " [0. 0. 1. 0.]\n",
            " [0. 1. 0. 0.]\n",
            " [0. 0. 0. 0.]\n",
            " [0. 0. 0. 0.]\n",
            " [0. 0. 0. 0.]\n",
            " [0. 1. 0. 0.]\n",
            " [0. 0. 0. 0.]\n",
            " [0. 0. 0. 0.]\n",
            " [0. 0. 1. 0.]\n",
            " [0. 1. 0. 0.]\n",
            " [0. 0. 0. 0.]\n",
            " [0. 0. 0. 0.]\n",
            " [0. 0. 0. 0.]\n",
            " [0. 0. 1. 0.]\n",
            " [0. 0. 0. 0.]]\n"
          ]
        }
      ]
    },
    {
      "cell_type": "code",
      "source": [
        "plt.title(f\"Success Rate : {sum(rList)/num_episodes}\")\n",
        "plt.bar(range(len(rList)), rList, color='blue')\n",
        "plt.show()"
      ],
      "metadata": {
        "colab": {
          "base_uri": "https://localhost:8080/",
          "height": 281
        },
        "id": "SIRzKV225jEY",
        "outputId": "ea621876-2c15-42b3-99c8-be2636a399d9"
      },
      "execution_count": null,
      "outputs": [
        {
          "output_type": "display_data",
          "data": {
            "text/plain": [
              "<Figure size 432x288 with 1 Axes>"
            ],
            "image/png": "[encoded data removed]"
          },
          "metadata": {
            "needs_background": "light"
          }
        }
      ]
    },
    {
      "cell_type": "markdown",
      "source": [
        "**Exploit & Exploration**"
      ],
      "metadata": {
        "id": "nrq2v081WeT5"
      }
    },
    {
      "cell_type": "code",
      "source": [
        "num_episodes = 2000\n",
        "cList = []\n",
        "\n",
        "rDict = {'Action':[],\n",
        "         'Learning':[],\n",
        "         'rList':[],\n",
        "         'rScore':[]}\n",
        "\n",
        "action_list = ['Dummy', 'E-greedy', 'Add Random Noise']\n",
        "discounted_list = ['NonDiscounted', 'Discounted']\n",
        "\n",
        "for a in action_list:\n",
        "    for l in discounted_list:\n",
        "        Q = np.zeros([env.observation_space.n, env.action_space.n])\n",
        "        rList = []\n",
        "\n",
        "        for i in range(num_episodes):\n",
        "            state = env.reset() \n",
        "            rAll = 0\n",
        "            done = False\n",
        "\n",
        "            while not done:\n",
        "                \n",
        "                # === Action === #\n",
        "                if a == 'E-greedy':\n",
        "                    e = 0.1 / ((i//100)+1)  \n",
        "                    action = env.action_space.sample() if np.random.rand(1)<e else rargmax(Q[state, :])\n",
        "\n",
        "                elif a == 'Add Random Noise':\n",
        "                    action = np.argmax(Q[state,:] + np.random.randn(1, env.action_space.n)/(i+1))\n",
        "\n",
        "                else: action = rargmax(Q[state, :])\n",
        "\n",
        "                # === Step === #\n",
        "                new_state, reward, done, info = env.step(action)\n",
        "\n",
        "                # === Learning === #\n",
        "                if l == 'Discount Reward':\n",
        "                    dis = 0.99\n",
        "                    Q[state, action] = reward + dis*np.max(Q[new_state, :])\n",
        "\n",
        "                else:\n",
        "                    Q[state, action] = reward + np.max(Q[new_state, :])                \n",
        "\n",
        "                rAll += reward\n",
        "                state = new_state\n",
        "\n",
        "            rList.append(rAll)\n",
        "\n",
        "        score = np.sum(rList)/num_episodes\n",
        "\n",
        "        rDict['Action'].append(a)\n",
        "        rDict['Learning'].append(l)\n",
        "        rDict['rList'].append(rList)\n",
        "        rDict['rScore'].append(score)\n",
        "\n",
        "        print(f\"<{a} + {l}>\")\n",
        "        print(f\"Success Rate : {score}\")\n",
        "        print(Q)\n",
        "        print(f\"Distance : {np.sum(Q)} \\n\")"
      ],
      "metadata": {
        "id": "wA1nxjRn7xV5",
        "colab": {
          "base_uri": "https://localhost:8080/"
        },
        "outputId": "65dbf824-e426-449c-bcb1-6035c43e21bd"
      },
      "execution_count": null,
      "outputs": [
        {
          "output_type": "stream",
          "name": "stdout",
          "text": [
            "<Dummy + NonDiscounted>\n",
            "Success Rate : 0.969\n",
            "[[0. 1. 0. 0.]\n",
            " [0. 0. 0. 0.]\n",
            " [0. 0. 0. 0.]\n",
            " [0. 0. 0. 0.]\n",
            " [0. 1. 0. 0.]\n",
            " [0. 0. 0. 0.]\n",
            " [0. 0. 0. 0.]\n",
            " [0. 0. 0. 0.]\n",
            " [0. 0. 1. 0.]\n",
            " [0. 1. 0. 0.]\n",
            " [0. 0. 0. 0.]\n",
            " [0. 0. 0. 0.]\n",
            " [0. 0. 0. 0.]\n",
            " [0. 0. 1. 0.]\n",
            " [0. 0. 1. 0.]\n",
            " [0. 0. 0. 0.]]\n",
            "Distance : 6.0 \n",
            "\n",
            "<Dummy + Discounted>\n",
            "Success Rate : 0.9645\n",
            "[[0. 0. 1. 0.]\n",
            " [0. 0. 1. 0.]\n",
            " [0. 1. 0. 0.]\n",
            " [0. 0. 0. 0.]\n",
            " [0. 0. 0. 0.]\n",
            " [0. 0. 0. 0.]\n",
            " [0. 1. 0. 0.]\n",
            " [0. 0. 0. 0.]\n",
            " [0. 0. 0. 0.]\n",
            " [0. 0. 0. 0.]\n",
            " [0. 1. 0. 0.]\n",
            " [0. 0. 0. 0.]\n",
            " [0. 0. 0. 0.]\n",
            " [0. 0. 0. 0.]\n",
            " [0. 0. 1. 0.]\n",
            " [0. 0. 0. 0.]]\n",
            "Distance : 6.0 \n",
            "\n",
            "<E-greedy + NonDiscounted>\n",
            "Success Rate : 0.832\n",
            "[[1. 1. 1. 1.]\n",
            " [1. 0. 1. 1.]\n",
            " [1. 1. 1. 1.]\n",
            " [1. 0. 1. 1.]\n",
            " [1. 1. 0. 1.]\n",
            " [0. 0. 0. 0.]\n",
            " [0. 1. 0. 1.]\n",
            " [0. 0. 0. 0.]\n",
            " [1. 0. 1. 1.]\n",
            " [1. 1. 1. 0.]\n",
            " [1. 1. 0. 1.]\n",
            " [0. 0. 0. 0.]\n",
            " [0. 0. 0. 0.]\n",
            " [0. 1. 1. 1.]\n",
            " [1. 1. 1. 1.]\n",
            " [0. 0. 0. 0.]]\n",
            "Distance : 35.0 \n",
            "\n",
            "<E-greedy + Discounted>\n",
            "Success Rate : 0.8055\n",
            "[[1. 1. 1. 1.]\n",
            " [1. 0. 1. 1.]\n",
            " [1. 1. 1. 1.]\n",
            " [1. 0. 1. 1.]\n",
            " [1. 1. 0. 1.]\n",
            " [0. 0. 0. 0.]\n",
            " [0. 1. 0. 1.]\n",
            " [0. 0. 0. 0.]\n",
            " [1. 0. 1. 1.]\n",
            " [1. 1. 1. 0.]\n",
            " [1. 1. 0. 1.]\n",
            " [0. 0. 0. 0.]\n",
            " [0. 0. 0. 0.]\n",
            " [0. 1. 1. 1.]\n",
            " [1. 1. 1. 1.]\n",
            " [0. 0. 0. 0.]]\n",
            "Distance : 35.0 \n",
            "\n",
            "<Add Random Noise + NonDiscounted>\n",
            "Success Rate : 0.9485\n",
            "[[0. 0. 1. 0.]\n",
            " [0. 0. 1. 0.]\n",
            " [0. 1. 0. 0.]\n",
            " [0. 0. 0. 0.]\n",
            " [0. 0. 0. 0.]\n",
            " [0. 0. 0. 0.]\n",
            " [0. 1. 0. 0.]\n",
            " [0. 0. 0. 0.]\n",
            " [0. 0. 0. 0.]\n",
            " [0. 0. 0. 0.]\n",
            " [0. 1. 0. 0.]\n",
            " [0. 0. 0. 0.]\n",
            " [0. 0. 0. 0.]\n",
            " [0. 0. 0. 0.]\n",
            " [0. 0. 1. 0.]\n",
            " [0. 0. 0. 0.]]\n",
            "Distance : 6.0 \n",
            "\n",
            "<Add Random Noise + Discounted>\n",
            "Success Rate : 0.975\n",
            "[[0. 0. 1. 0.]\n",
            " [0. 0. 1. 0.]\n",
            " [0. 1. 0. 0.]\n",
            " [0. 0. 0. 0.]\n",
            " [0. 0. 0. 0.]\n",
            " [0. 0. 0. 0.]\n",
            " [0. 1. 0. 0.]\n",
            " [0. 0. 0. 0.]\n",
            " [0. 0. 0. 0.]\n",
            " [0. 0. 0. 0.]\n",
            " [0. 1. 0. 0.]\n",
            " [0. 0. 0. 0.]\n",
            " [0. 0. 0. 0.]\n",
            " [0. 0. 0. 0.]\n",
            " [0. 0. 1. 0.]\n",
            " [0. 0. 0. 0.]]\n",
            "Distance : 6.0 \n",
            "\n"
          ]
        }
      ]
    },
    {
      "cell_type": "code",
      "source": [
        "for i in range(len(rDict['Action'])):\n",
        "    plt.title(f\"{rDict['Action'][i]} + {rDict['Learning'][i]} : {np.sum(rDict['rList'][i])/num_episodes}\")\n",
        "    plt.bar(range(len(rDict['rList'][i])), rDict['rList'][i], color='blue')\n",
        "    plt.show()"
      ],
      "metadata": {
        "colab": {
          "base_uri": "https://localhost:8080/",
          "height": 1000
        },
        "id": "mGM1GrMYH48C",
        "outputId": "0ec99722-8933-490c-e0b4-fd5059aa7703"
      },
      "execution_count": null,
      "outputs": [
        {
          "output_type": "display_data",
          "data": {
            "text/plain": [
              "<Figure size 432x288 with 1 Axes>"
            ],
            "image/png": "[encoded data removed]"
          },
          "metadata": {
            "needs_background": "light"
          }
        },
        {
          "output_type": "display_data",
          "data": {
            "text/plain": [
              "<Figure size 432x288 with 1 Axes>"
            ],
            "image/png": "[encoded data removed]"
          },
          "metadata": {
            "needs_background": "light"
          }
        },
        {
          "output_type": "display_data",
          "data": {
            "text/plain": [
              "<Figure size 432x288 with 1 Axes>"
            ],
            "image/png": "[encoded data removed]"
          },
          "metadata": {
            "needs_background": "light"
          }
        },
        {
          "output_type": "display_data",
          "data": {
            "text/plain": [
              "<Figure size 432x288 with 1 Axes>"
            ],
            "image/png": "[encoded data removed]"
          },
          "metadata": {
            "needs_background": "light"
          }
        },
        {
          "output_type": "display_data",
          "data": {
            "text/plain": [
              "<Figure size 432x288 with 1 Axes>"
            ],
            "image/png": "[encoded data removed]"
          },
          "metadata": {
            "needs_background": "light"
          }
        },
        {
          "output_type": "display_data",
          "data": {
            "text/plain": [
              "<Figure size 432x288 with 1 Axes>"
            ],
            "image/png": "[encoded data removed]"
          },
          "metadata": {
            "needs_background": "light"
          }
        }
      ]
    },
    {
      "cell_type": "code",
      "source": [
        ""
      ],
      "metadata": {
        "id": "crhWtFPdQSih"
      },
      "execution_count": null,
      "outputs": []
    }
  ]
}